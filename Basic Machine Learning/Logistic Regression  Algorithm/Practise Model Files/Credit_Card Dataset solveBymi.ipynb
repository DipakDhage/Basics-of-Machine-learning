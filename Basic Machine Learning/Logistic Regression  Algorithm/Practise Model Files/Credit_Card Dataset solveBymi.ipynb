{
 "cells": [
  {
   "cell_type": "code",
   "execution_count": 1,
   "id": "50155e9a",
   "metadata": {},
   "outputs": [],
   "source": [
    "import pandas as pd # Dataframe\n",
    "import numpy as np # maths\n",
    "\n",
    "################ Machine Learning #######################\n",
    "from sklearn import preprocessing # Machine Learning\n",
    "from sklearn.linear_model import LogisticRegression\n",
    "from sklearn.model_selection import train_test_split\n",
    "import statsmodels.formula.api as smf\n",
    "\n",
    "################ Data visualization #######################\n",
    "import matplotlib.pyplot as plt # Plot \n",
    "plt.rc(\"font\", size=14)\n",
    "import seaborn as sns # Plot advanced version of matplotlib\n",
    "import plotly\n",
    "sns.set(style=\"white\")\n",
    "sns.set(style=\"whitegrid\", color_codes=True)"
   ]
  },
  {
   "cell_type": "code",
   "execution_count": null,
   "id": "246cf45e",
   "metadata": {},
   "outputs": [],
   "source": [
    "# Read the data in\n",
    "data = pd.read_csv(r\"C:\\Users\\dipak\\Downloads\\GithHub\\Basic Machine Learning\\Logistic Regression\\Logistic Regression Datasets\\Credit_Card.csv\")"
   ]
  },
  {
   "cell_type": "code",
   "execution_count": null,
   "id": "b26929b0",
   "metadata": {},
   "outputs": [],
   "source": []
  },
  {
   "cell_type": "code",
   "execution_count": null,
   "id": "01aeca7b",
   "metadata": {},
   "outputs": [],
   "source": []
  },
  {
   "cell_type": "code",
   "execution_count": null,
   "id": "6b10a542",
   "metadata": {},
   "outputs": [],
   "source": []
  }
 ],
 "metadata": {
  "kernelspec": {
   "display_name": "Python 3 (ipykernel)",
   "language": "python",
   "name": "python3"
  },
  "language_info": {
   "codemirror_mode": {
    "name": "ipython",
    "version": 3
   },
   "file_extension": ".py",
   "mimetype": "text/x-python",
   "name": "python",
   "nbconvert_exporter": "python",
   "pygments_lexer": "ipython3",
   "version": "3.9.13"
  }
 },
 "nbformat": 4,
 "nbformat_minor": 5
}
